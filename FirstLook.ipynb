{
 "cells": [
  {
   "cell_type": "markdown",
   "metadata": {},
   "source": [
    "# Time Series Analysis with TDA\n",
    "First, import the usual libraries"
   ]
  },
  {
   "cell_type": "code",
   "execution_count": 1,
   "metadata": {},
   "outputs": [],
   "source": [
    "import pandas as pd\n",
    "import numpy as np\n",
    "import gudhi as gd\n",
    "from gudhi.point_cloud.timedelay import TimeDelayEmbedding\n",
    "from gudhi.hera import wasserstein_distance\n",
    "from gudhi.representations import PersistenceImage\n",
    "from gudhi.representations.metrics import WassersteinDistance\n",
    "import matplotlib.pyplot as plt\n",
    "from matplotlib import cm\n",
    "from sklearn.manifold import MDS\n",
    "import os\n",
    "%matplotlib widget"
   ]
  },
  {
   "cell_type": "markdown",
   "metadata": {},
   "source": [
    "Now we load the data.\n",
    "We have five machines, for each of which we have time series for working well and for malfunctioning.\n",
    "This way we get 10 numpy arrays in total."
   ]
  },
  {
   "cell_type": "code",
   "execution_count": 2,
   "metadata": {},
   "outputs": [
    {
     "name": "stdout",
     "output_type": "stream",
     "text": [
      "['sig1_good.txt', 'sig2_good.txt', 'sig3_good.txt', 'sig4_good.txt', 'sig5_good.txt']\n",
      "['sig1_bad.txt', 'sig2_bad.txt', 'sig3_bad.txt', 'sig4_bad.txt', 'sig5_bad.txt']\n",
      "[-0.11156466  0.01043311  0.30969176 ...  0.44117724  0.98839737\n",
      " -2.1306849 ]\n"
     ]
    }
   ],
   "source": [
    "datapath =\".\\\\data\\\\timeseries\\\\good_new\"\n",
    "filelist = os.listdir(datapath)\n",
    "print(sorted(filelist))\n",
    "good_time_series = [np.array(pd.read_csv(os.path.join(datapath,f), header=None)[0]) for f in sorted(filelist)]\n",
    "datapath =\".\\\\data\\\\timeseries\\\\bad_new\"\n",
    "filelist = os.listdir(datapath)\n",
    "print(sorted(filelist))\n",
    "bad_time_series = [np.array(pd.read_csv(os.path.join(datapath,f), header=None)[0]) for f in sorted(filelist)]\n",
    "\n",
    "print(good_time_series[0])"
   ]
  },
  {
   "cell_type": "markdown",
   "metadata": {},
   "source": [
    "Let us plot the time series"
   ]
  },
  {
   "cell_type": "code",
   "execution_count": 9,
   "metadata": {},
   "outputs": [
    {
     "data": {
      "application/vnd.jupyter.widget-view+json": {
       "model_id": "14696a9fd96947ae8756918b1840476f",
       "version_major": 2,
       "version_minor": 0
      },
      "text/plain": [
       "Canvas(toolbar=Toolbar(toolitems=[('Home', 'Reset original view', 'home', 'home'), ('Back', 'Back to previous …"
      ]
     },
     "metadata": {},
     "output_type": "display_data"
    }
   ],
   "source": [
    "f,axes = plt.subplots(1,len(good_time_series), figsize = (25,5))\n",
    "for i in range(0,len(good_time_series)):\n",
    "    axes[i].plot(np.array(range(len(good_time_series[i]))),good_time_series[i], alpha = 1, c=\"tab:green\")\n",
    "    axes[i].plot(np.array(range(len(bad_time_series[i]))),bad_time_series[i], alpha=0.5, c=\"tab:red\")\n",
    "    #axes[i].plot(np.array(range(len(bad_time_series[i]))),bad_time_series[i]-good_time_series[i], alpha=0.5, c=\"tab:red\")\n",
    "plt.show()"
   ]
  },
  {
   "cell_type": "markdown",
   "metadata": {},
   "source": [
    "Now we use time delay embedding, mapping a time series valued in $\\mathbb{R}$ to a point cloud in $\\mathbb{R}^4$.\n",
    "The parameters are determined by trial and error.\n",
    "Concretely, using $dim =4, delay = 5, skip = 6$, we map the sequence\n",
    "$$(x_1, x_2, x_3, x_4, x_5, x_6, \\ldots)\\mapsto ((x_1, x_6, x_{11}, x_{16}), (x_7,x_{12}, x_{17},x_{22}),(x_{13},x_{18},x_{23},x_{28})).$$"
   ]
  },
  {
   "cell_type": "code",
   "execution_count": 65,
   "metadata": {},
   "outputs": [
    {
     "name": "stdout",
     "output_type": "stream",
     "text": [
      "(5, 24284, 2)\n",
      "[[-0.11156466  0.59295133]\n",
      " [ 0.01043311 -0.08505221]\n",
      " [ 0.30969176 -1.3842557 ]\n",
      " ...\n",
      " [ 0.03721146  0.44117724]\n",
      " [-0.28360267  0.98839737]\n",
      " [ 0.54943996 -2.1306849 ]]\n"
     ]
    }
   ],
   "source": [
    "dim = 2\n",
    "delay =716\n",
    "skip = 1\n",
    "\n",
    "tde = TimeDelayEmbedding(dim = dim, delay=delay, skip=skip)\n",
    "good_point_clouds = tde.transform(good_time_series)\n",
    "bad_point_clouds = tde.transform(bad_time_series)\n",
    "diff_point_clouds = tde.transform(np.array(bad_time_series) - np.array(good_time_series))\n",
    "\n",
    "print(np.array(good_point_clouds).shape)\n",
    "print(good_point_clouds[0])"
   ]
  },
  {
   "cell_type": "code",
   "execution_count": 66,
   "metadata": {},
   "outputs": [
    {
     "data": {
      "application/vnd.jupyter.widget-view+json": {
       "model_id": "7a37d01fd34f4d0c98d1ef3f4fb5de6a",
       "version_major": 2,
       "version_minor": 0
      },
      "text/plain": [
       "Canvas(toolbar=Toolbar(toolitems=[('Home', 'Reset original view', 'home', 'home'), ('Back', 'Back to previous …"
      ]
     },
     "metadata": {},
     "output_type": "display_data"
    }
   ],
   "source": [
    "f,ax = plt.subplots()\n",
    "ax.scatter(diff_point_clouds[4][:,0],diff_point_clouds[4][:,1])\n",
    "plt.show()"
   ]
  },
  {
   "cell_type": "markdown",
   "metadata": {},
   "source": [
    "For each pointcloud, we compute persistent homology in dimension 1 using the alpha filtration."
   ]
  },
  {
   "cell_type": "code",
   "execution_count": 67,
   "metadata": {},
   "outputs": [],
   "source": [
    "good_pds = []\n",
    "\n",
    "for pc in good_point_clouds:\n",
    "    ac = gd.AlphaComplex(pc)\n",
    "    st = ac.create_simplex_tree()\n",
    "    st.compute_persistence()\n",
    "    good_pds.append(st.persistence_intervals_in_dimension(1))\n",
    "\n",
    "bad_pds = []\n",
    "\n",
    "for pc in bad_point_clouds:\n",
    "    ac = gd.AlphaComplex(pc)\n",
    "    st = ac.create_simplex_tree()\n",
    "    st.compute_persistence()\n",
    "    bad_pds.append(st.persistence_intervals_in_dimension(1))"
   ]
  },
  {
   "cell_type": "markdown",
   "metadata": {},
   "source": [
    "Now we plot the persistence diagrams.\n",
    "The five pictures correspond to the five machines.\n",
    "In each subfigure, the red diagram represents the well-working machine, whereas the green diagram represents the malfunctioning machine."
   ]
  },
  {
   "cell_type": "code",
   "execution_count": 68,
   "metadata": {},
   "outputs": [
    {
     "data": {
      "application/vnd.jupyter.widget-view+json": {
       "model_id": "cdd0a1a214a5422abd436bb1f59742ff",
       "version_major": 2,
       "version_minor": 0
      },
      "text/plain": [
       "Canvas(toolbar=Toolbar(toolitems=[('Home', 'Reset original view', 'home', 'home'), ('Back', 'Back to previous …"
      ]
     },
     "metadata": {},
     "output_type": "display_data"
    }
   ],
   "source": [
    "f,axes = plt.subplots(1,len(good_pds), figsize = (20,4))\n",
    "for i in range(0,len(good_pds)):\n",
    "    gd.plot_persistence_diagram(good_pds[i], axes=axes[i])\n",
    "    gd.plot_persistence_diagram(bad_pds[i], axes=axes[i],colormap=cm.Set2.colors)\n",
    "plt.show()"
   ]
  },
  {
   "cell_type": "markdown",
   "metadata": {},
   "source": [
    "To do machine learning, we vectorize the diagrams to peristent images.\n",
    "For illustration, we plot the PI corresponding to Machine 1 working well."
   ]
  },
  {
   "cell_type": "code",
   "execution_count": 69,
   "metadata": {},
   "outputs": [
    {
     "data": {
      "application/vnd.jupyter.widget-view+json": {
       "model_id": "98d9c10af75347dea48e20d6a3a2f14e",
       "version_major": 2,
       "version_minor": 0
      },
      "text/plain": [
       "Canvas(toolbar=Toolbar(toolitems=[('Home', 'Reset original view', 'home', 'home'), ('Back', 'Back to previous …"
      ]
     },
     "metadata": {},
     "output_type": "display_data"
    },
    {
     "data": {
      "text/plain": [
       "<matplotlib.image.AxesImage at 0x1a01b4910c8>"
      ]
     },
     "execution_count": 69,
     "metadata": {},
     "output_type": "execute_result"
    }
   ],
   "source": [
    "pi = PersistenceImage()\n",
    "pi.fit(good_pds+bad_pds)\n",
    "good_pis = pi.transform(good_pds)\n",
    "bad_pis = pi.transform(bad_pds)\n",
    "plt.matshow(good_pis[0].reshape(pi.resolution))"
   ]
  },
  {
   "cell_type": "markdown",
   "metadata": {},
   "source": [
    "Next, we use MDS to visualize the data set in two dimensions."
   ]
  },
  {
   "cell_type": "code",
   "execution_count": 70,
   "metadata": {},
   "outputs": [],
   "source": [
    "pis = np.concatenate((good_pis,bad_pis))\n",
    "mds = MDS(n_components=2)\n",
    "emb =mds.fit_transform(pis)"
   ]
  },
  {
   "cell_type": "code",
   "execution_count": 71,
   "metadata": {},
   "outputs": [
    {
     "data": {
      "application/vnd.jupyter.widget-view+json": {
       "model_id": "1fd4da9d082a40a6b65922f17cb1791a",
       "version_major": 2,
       "version_minor": 0
      },
      "text/plain": [
       "Canvas(toolbar=Toolbar(toolitems=[('Home', 'Reset original view', 'home', 'home'), ('Back', 'Back to previous …"
      ]
     },
     "metadata": {},
     "output_type": "display_data"
    }
   ],
   "source": [
    "f,ax = plt.subplots()\n",
    "colors = [\"tab:blue\",\"tab:orange\", \"tab:green\", \"tab:red\",\"tab:olive\"]\n",
    "ax.scatter(emb[:5,0],emb[:5,1], marker = \"o\", c= colors, label=\"well-working machine\")\n",
    "ax.scatter(emb[5:,0],emb[5:,1], marker = \"x\", c=colors, label=\"malfunctioning machine\")\n",
    "ax.legend()\n",
    "plt.show()"
   ]
  },
  {
   "cell_type": "code",
   "execution_count": 73,
   "metadata": {},
   "outputs": [
    {
     "data": {
      "application/vnd.jupyter.widget-view+json": {
       "model_id": "75634ae44d1a486b808510b43dc12121",
       "version_major": 2,
       "version_minor": 0
      },
      "text/plain": [
       "Canvas(toolbar=Toolbar(toolitems=[('Home', 'Reset original view', 'home', 'home'), ('Back', 'Back to previous …"
      ]
     },
     "metadata": {},
     "output_type": "display_data"
    }
   ],
   "source": [
    "from sklearn.decomposition import PCA\n",
    "\n",
    "pca = PCA(n_components=2)\n",
    "emb = pca.fit_transform(pis)\n",
    "\n",
    "f,ax = plt.subplots()\n",
    "colors = [\"tab:blue\",\"tab:orange\", \"tab:green\", \"tab:red\",\"tab:olive\"]\n",
    "ax.scatter(emb[:5,0],emb[:5,1], marker = \"o\", c= colors, label=\"well-working machine\")\n",
    "ax.scatter(emb[5:,0],emb[5:,1], marker = \"x\", c=colors, label=\"malfunctioning machine\")\n",
    "ax.legend()\n",
    "plt.show()"
   ]
  },
  {
   "cell_type": "code",
   "execution_count": null,
   "metadata": {},
   "outputs": [],
   "source": []
  }
 ],
 "metadata": {
  "kernelspec": {
   "display_name": "Python 3.7.6 ('base')",
   "language": "python",
   "name": "python3"
  },
  "language_info": {
   "codemirror_mode": {
    "name": "ipython",
    "version": 3
   },
   "file_extension": ".py",
   "mimetype": "text/x-python",
   "name": "python",
   "nbconvert_exporter": "python",
   "pygments_lexer": "ipython3",
   "version": "3.7.6"
  },
  "orig_nbformat": 4,
  "vscode": {
   "interpreter": {
    "hash": "d9afb6b688e7dd77db3bffa01ffc2bc117fca9c663fc228558b76627c9c64d5e"
   }
  }
 },
 "nbformat": 4,
 "nbformat_minor": 2
}
