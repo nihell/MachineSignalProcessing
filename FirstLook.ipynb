{
 "cells": [
  {
   "cell_type": "markdown",
   "metadata": {},
   "source": [
    "# Time Series Analysis with TDA\n",
    "First, import the usual libraries"
   ]
  },
  {
   "cell_type": "code",
   "execution_count": 1,
   "metadata": {},
   "outputs": [],
   "source": [
    "import pandas as pd\n",
    "import numpy as np\n",
    "import gudhi as gd\n",
    "from gudhi.point_cloud.timedelay import TimeDelayEmbedding\n",
    "from gudhi.hera import wasserstein_distance\n",
    "from gudhi.representations import PersistenceImage\n",
    "from gudhi.representations.metrics import WassersteinDistance\n",
    "import matplotlib.pyplot as plt\n",
    "from matplotlib import cm\n",
    "from sklearn.manifold import MDS\n",
    "import os\n",
    "%matplotlib widget"
   ]
  },
  {
   "cell_type": "markdown",
   "metadata": {},
   "source": [
    "Now we load the data.\n",
    "We have five machines, for each of which we have time series for working well and for malfunctioning.\n",
    "This way we get 10 numpy arrays in total."
   ]
  },
  {
   "cell_type": "code",
   "execution_count": 10,
   "metadata": {},
   "outputs": [
    {
     "name": "stdout",
     "output_type": "stream",
     "text": [
      "['s1_dobry.csv', 's2_dobry.txt', 's3_dobry.txt', 's4_dobry.txt', 's5_dobry.txt']\n",
      "['s1_zly.csv', 's2_zly.txt', 's3_zly.txt', 's4_zly.txt', 's5_zly.txt']\n",
      "[-0.82894017  1.9204448  -1.5284254  ... -1.2865971  -0.60511983\n",
      " -0.07341333]\n"
     ]
    }
   ],
   "source": [
    "datapath =\".\\\\data\\\\timeseries\\\\good\"\n",
    "filelist = os.listdir(datapath)\n",
    "print(sorted(filelist))\n",
    "good_time_series = [np.array(pd.read_csv(os.path.join(datapath,f), header=None)[0]) for f in sorted(filelist)]\n",
    "datapath =\".\\\\data\\\\timeseries\\\\bad\"\n",
    "filelist = os.listdir(datapath)\n",
    "print(sorted(filelist))\n",
    "bad_time_series = [np.array(pd.read_csv(os.path.join(datapath,f), header=None)[0]) for f in sorted(filelist)]\n",
    "\n",
    "print(good_time_series[0])"
   ]
  },
  {
   "cell_type": "markdown",
   "metadata": {},
   "source": [
    "Now we use time delay embedding, mapping a time series valued in $\\mathbb{R}$ to a point cloud in $\\mathbb{R}^4$.\n",
    "The parameters are determined by trial and error.\n",
    "Concretely, using $dim =4, delay = 5, skip = 6$, we map the sequence\n",
    "$$(x_1, x_2, x_3, x_4, x_5, x_6, \\ldots)\\mapsto ((x_1, x_6, x_{11}, x_{16}), (x_7,x_{12}, x_{17},x_{22}),(x_{13},x_{18},x_{23},x_{28})).$$"
   ]
  },
  {
   "cell_type": "code",
   "execution_count": 11,
   "metadata": {},
   "outputs": [
    {
     "name": "stdout",
     "output_type": "stream",
     "text": [
      "(5, 4165, 4)\n",
      "[[-0.82894017 -1.676068    0.61082319 -1.2197562 ]\n",
      " [ 0.29525353 -0.56717424  0.40122043 -1.1453363 ]\n",
      " [ 1.4061296  -1.0562994   0.28753959 -0.642903  ]\n",
      " ...\n",
      " [ 0.25995711  0.43219934  0.57439584  0.73807818]\n",
      " [ 1.0403516  -2.008198    2.1963031   0.8445641 ]\n",
      " [ 0.19894947  0.08169701  0.12300388 -0.07341333]]\n"
     ]
    }
   ],
   "source": [
    "dim = 4\n",
    "delay =5\n",
    "skip = 6\n",
    "\n",
    "tde = TimeDelayEmbedding(dim = dim, delay=delay, skip=skip)\n",
    "good_point_clouds = tde.transform(good_time_series)\n",
    "bad_point_clouds = tde.transform(bad_time_series)\n",
    "\n",
    "print(np.array(good_point_clouds).shape)\n",
    "print(good_point_clouds[0])"
   ]
  },
  {
   "cell_type": "markdown",
   "metadata": {},
   "source": [
    "For each pointcloud, we compute persistent homology in dimension 1 using the alpha filtration."
   ]
  },
  {
   "cell_type": "code",
   "execution_count": 4,
   "metadata": {},
   "outputs": [],
   "source": [
    "good_pds = []\n",
    "\n",
    "for pc in good_point_clouds:\n",
    "    ac = gd.AlphaComplex(pc)\n",
    "    st = ac.create_simplex_tree()\n",
    "    st.compute_persistence()\n",
    "    good_pds.append(st.persistence_intervals_in_dimension(1))\n",
    "\n",
    "bad_pds = []\n",
    "\n",
    "for pc in bad_point_clouds:\n",
    "    ac = gd.AlphaComplex(pc)\n",
    "    st = ac.create_simplex_tree()\n",
    "    st.compute_persistence()\n",
    "    bad_pds.append(st.persistence_intervals_in_dimension(1))"
   ]
  },
  {
   "cell_type": "markdown",
   "metadata": {},
   "source": [
    "Now we plot the persistence diagrams.\n",
    "The five pictures correspond to the five machines.\n",
    "In each subfigure, the red diagram represents the well-working machine, whereas the green diagram represents the malfunctioning machine."
   ]
  },
  {
   "cell_type": "code",
   "execution_count": 5,
   "metadata": {},
   "outputs": [
    {
     "data": {
      "application/vnd.jupyter.widget-view+json": {
       "model_id": "79c919a33e0c4af78ba8bcff1916ff4a",
       "version_major": 2,
       "version_minor": 0
      },
      "text/plain": [
       "Canvas(toolbar=Toolbar(toolitems=[('Home', 'Reset original view', 'home', 'home'), ('Back', 'Back to previous …"
      ]
     },
     "metadata": {},
     "output_type": "display_data"
    }
   ],
   "source": [
    "f,axes = plt.subplots(1,len(good_pds), figsize = (20,4))\n",
    "for i in range(0,len(good_pds)):\n",
    "    gd.plot_persistence_diagram(good_pds[i], axes=axes[i])\n",
    "    gd.plot_persistence_diagram(bad_pds[i], axes=axes[i],colormap=cm.Set2.colors)\n",
    "plt.show()"
   ]
  },
  {
   "cell_type": "markdown",
   "metadata": {},
   "source": [
    "To do machine learning, we vectorize the diagrams to peristent images.\n",
    "For illustration, we plot the PI corresponding to Machine 1 working well."
   ]
  },
  {
   "cell_type": "code",
   "execution_count": 15,
   "metadata": {},
   "outputs": [
    {
     "data": {
      "application/vnd.jupyter.widget-view+json": {
       "model_id": "e3b94cbd2c294e3daafbbce7c2905205",
       "version_major": 2,
       "version_minor": 0
      },
      "text/plain": [
       "Canvas(toolbar=Toolbar(toolitems=[('Home', 'Reset original view', 'home', 'home'), ('Back', 'Back to previous …"
      ]
     },
     "metadata": {},
     "output_type": "display_data"
    },
    {
     "data": {
      "text/plain": [
       "<matplotlib.image.AxesImage at 0x2009c37b088>"
      ]
     },
     "execution_count": 15,
     "metadata": {},
     "output_type": "execute_result"
    }
   ],
   "source": [
    "pi = PersistenceImage()\n",
    "pi.fit(good_pds+bad_pds)\n",
    "good_pis = pi.transform(good_pds)\n",
    "bad_pis = pi.transform(bad_pds)\n",
    "plt.matshow(good_pis[0].reshape(pi.resolution))"
   ]
  },
  {
   "cell_type": "markdown",
   "metadata": {},
   "source": [
    "Next, we use MDS to visualize the data set in two dimensions."
   ]
  },
  {
   "cell_type": "code",
   "execution_count": 7,
   "metadata": {},
   "outputs": [],
   "source": [
    "pis = np.concatenate((good_pis,bad_pis))\n",
    "mds = MDS(n_components=2)\n",
    "emb =mds.fit_transform(pis)"
   ]
  },
  {
   "cell_type": "code",
   "execution_count": 16,
   "metadata": {},
   "outputs": [
    {
     "data": {
      "application/vnd.jupyter.widget-view+json": {
       "model_id": "1e9f1db684894899ba38fce4e920c1e6",
       "version_major": 2,
       "version_minor": 0
      },
      "text/plain": [
       "Canvas(toolbar=Toolbar(toolitems=[('Home', 'Reset original view', 'home', 'home'), ('Back', 'Back to previous …"
      ]
     },
     "metadata": {},
     "output_type": "display_data"
    }
   ],
   "source": [
    "f,ax = plt.subplots()\n",
    "colors = [\"tab:blue\",\"tab:orange\", \"tab:green\", \"tab:red\",\"tab:olive\"]\n",
    "ax.scatter(emb[:5,0],emb[:5,1], marker = \"o\", c= colors, label=\"well-working machine\")\n",
    "ax.scatter(emb[5:,0],emb[5:,1], marker = \"x\", c=colors, label=\"malfunctioning machine\")\n",
    "ax.legend()\n",
    "plt.show()"
   ]
  }
 ],
 "metadata": {
  "kernelspec": {
   "display_name": "Python 3.7.6 ('base')",
   "language": "python",
   "name": "python3"
  },
  "language_info": {
   "codemirror_mode": {
    "name": "ipython",
    "version": 3
   },
   "file_extension": ".py",
   "mimetype": "text/x-python",
   "name": "python",
   "nbconvert_exporter": "python",
   "pygments_lexer": "ipython3",
   "version": "3.7.6"
  },
  "orig_nbformat": 4,
  "vscode": {
   "interpreter": {
    "hash": "d9afb6b688e7dd77db3bffa01ffc2bc117fca9c663fc228558b76627c9c64d5e"
   }
  }
 },
 "nbformat": 4,
 "nbformat_minor": 2
}
