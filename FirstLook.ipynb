{
 "cells": [
  {
   "cell_type": "code",
   "execution_count": 1,
   "metadata": {},
   "outputs": [],
   "source": [
    "import pandas as pd\n",
    "import numpy as np\n",
    "import gudhi as gd\n",
    "from gudhi.point_cloud.timedelay import TimeDelayEmbedding\n",
    "from gudhi.hera import wasserstein_distance\n",
    "from gudhi.representations import PersistenceImage\n",
    "from gudhi.representations.metrics import WassersteinDistance\n",
    "import matplotlib.pyplot as plt\n",
    "from matplotlib import cm\n",
    "from sklearn.manifold import MDS\n",
    "import os\n",
    "%matplotlib widget"
   ]
  },
  {
   "cell_type": "code",
   "execution_count": 2,
   "metadata": {},
   "outputs": [
    {
     "name": "stdout",
     "output_type": "stream",
     "text": [
      "['s1_dobry.csv', 's2_dobry.txt', 's3_dobry.txt', 's4_dobry.txt', 's5_dobry.txt']\n",
      "['s1_zly.csv', 's2_zly.txt', 's3_zly.txt', 's4_zly.txt', 's5_zly.txt']\n"
     ]
    }
   ],
   "source": [
    "datapath =\".\\\\data\\\\timeseries\\\\good\"\n",
    "filelist = os.listdir(datapath)\n",
    "print(sorted(filelist))\n",
    "good_time_series = [np.array(pd.read_csv(os.path.join(datapath,f), header=None)[0]) for f in sorted(filelist)]\n",
    "datapath =\".\\\\data\\\\timeseries\\\\bad\"\n",
    "filelist = os.listdir(datapath)\n",
    "print(sorted(filelist))\n",
    "bad_time_series = [np.array(pd.read_csv(os.path.join(datapath,f), header=None)[0]) for f in sorted(filelist)]"
   ]
  },
  {
   "cell_type": "code",
   "execution_count": null,
   "metadata": {},
   "outputs": [],
   "source": [
    "dim = 4\n",
    "delay =2\n",
    "skip = 1\n",
    "\n",
    "tde = TimeDelayEmbedding(dim = dim, delay=delay, skip=skip)\n",
    "good_point_clouds = tde.transform(good_time_series)\n",
    "bad_point_clouds = tde.transform(bad_time_series)\n",
    "\n",
    "print(np.array(good_point_clouds).shape)"
   ]
  },
  {
   "cell_type": "code",
   "execution_count": 3,
   "metadata": {},
   "outputs": [
    {
     "ename": "NameError",
     "evalue": "name 'good_point_clouds' is not defined",
     "output_type": "error",
     "traceback": [
      "\u001b[1;31m---------------------------------------------------------------------------\u001b[0m",
      "\u001b[1;31mNameError\u001b[0m                                 Traceback (most recent call last)",
      "\u001b[1;32m<ipython-input-3-aeb7fd35b78a>\u001b[0m in \u001b[0;36m<module>\u001b[1;34m\u001b[0m\n\u001b[0;32m      1\u001b[0m \u001b[0mgood_pds\u001b[0m \u001b[1;33m=\u001b[0m \u001b[1;33m[\u001b[0m\u001b[1;33m]\u001b[0m\u001b[1;33m\u001b[0m\u001b[1;33m\u001b[0m\u001b[0m\n\u001b[0;32m      2\u001b[0m \u001b[1;33m\u001b[0m\u001b[0m\n\u001b[1;32m----> 3\u001b[1;33m \u001b[1;32mfor\u001b[0m \u001b[0mpc\u001b[0m \u001b[1;32min\u001b[0m \u001b[0mgood_point_clouds\u001b[0m\u001b[1;33m:\u001b[0m\u001b[1;33m\u001b[0m\u001b[1;33m\u001b[0m\u001b[0m\n\u001b[0m\u001b[0;32m      4\u001b[0m     \u001b[0mac\u001b[0m \u001b[1;33m=\u001b[0m \u001b[0mgd\u001b[0m\u001b[1;33m.\u001b[0m\u001b[0mAlphaComplex\u001b[0m\u001b[1;33m(\u001b[0m\u001b[0mpc\u001b[0m\u001b[1;33m)\u001b[0m\u001b[1;33m\u001b[0m\u001b[1;33m\u001b[0m\u001b[0m\n\u001b[0;32m      5\u001b[0m     \u001b[0mst\u001b[0m \u001b[1;33m=\u001b[0m \u001b[0mac\u001b[0m\u001b[1;33m.\u001b[0m\u001b[0mcreate_simplex_tree\u001b[0m\u001b[1;33m(\u001b[0m\u001b[1;33m)\u001b[0m\u001b[1;33m\u001b[0m\u001b[1;33m\u001b[0m\u001b[0m\n",
      "\u001b[1;31mNameError\u001b[0m: name 'good_point_clouds' is not defined"
     ]
    }
   ],
   "source": [
    "good_pds = []\n",
    "\n",
    "for pc in good_point_clouds:\n",
    "    ac = gd.AlphaComplex(pc)\n",
    "    st = ac.create_simplex_tree()\n",
    "    st.compute_persistence()\n",
    "    good_pds.append(st.persistence_intervals_in_dimension(1))\n",
    "\n",
    "bad_pds = []\n",
    "\n",
    "for pc in bad_point_clouds:\n",
    "    ac = gd.AlphaComplex(pc)\n",
    "    st = ac.create_simplex_tree()\n",
    "    st.compute_persistence()\n",
    "    bad_pds.append(st.persistence_intervals_in_dimension(1))"
   ]
  },
  {
   "cell_type": "code",
   "execution_count": null,
   "metadata": {},
   "outputs": [],
   "source": [
    "f,axes = plt.subplots(1,len(good_pds), figsize = (20,4))\n",
    "for i in range(0,len(good_pds)):\n",
    "    gd.plot_persistence_diagram(good_pds[i], axes=axes[i])\n",
    "    gd.plot_persistence_diagram(bad_pds[i], axes=axes[i],colormap=cm.Set2.colors)\n",
    "plt.show()"
   ]
  },
  {
   "cell_type": "code",
   "execution_count": null,
   "metadata": {},
   "outputs": [],
   "source": [
    "pi = PersistenceImage()\n",
    "pi.fit(good_pds+bad_pds)\n",
    "good_pis = pi.transform(good_pds)\n",
    "bad_pis = pi.transform(bad_pds)"
   ]
  },
  {
   "cell_type": "code",
   "execution_count": null,
   "metadata": {},
   "outputs": [],
   "source": [
    "pis = np.concatenate((good_pis,bad_pis))\n",
    "mds = MDS(n_components=2)\n",
    "emb =mds.fit_transform(pis)"
   ]
  },
  {
   "cell_type": "code",
   "execution_count": null,
   "metadata": {},
   "outputs": [],
   "source": [
    "f,ax = plt.subplots()\n",
    "colors = [\"tab:blue\",\"tab:orange\", \"tab:green\", \"tab:red\",\"tab:olive\"]\n",
    "ax.scatter(emb[:5,0],emb[:5,1], marker = \"o\", c= colors)\n",
    "ax.scatter(emb[5:,0],emb[5:,1], marker = \"x\", c=colors)\n",
    "plt.show()"
   ]
  },
  {
   "cell_type": "code",
   "execution_count": null,
   "metadata": {},
   "outputs": [],
   "source": [
    "len(good_pds+bad_pds)"
   ]
  }
 ],
 "metadata": {
  "kernelspec": {
   "display_name": "Python 3.7.6 ('base')",
   "language": "python",
   "name": "python3"
  },
  "language_info": {
   "codemirror_mode": {
    "name": "ipython",
    "version": 3
   },
   "file_extension": ".py",
   "mimetype": "text/x-python",
   "name": "python",
   "nbconvert_exporter": "python",
   "pygments_lexer": "ipython3",
   "version": "3.7.6"
  },
  "orig_nbformat": 4,
  "vscode": {
   "interpreter": {
    "hash": "d9afb6b688e7dd77db3bffa01ffc2bc117fca9c663fc228558b76627c9c64d5e"
   }
  }
 },
 "nbformat": 4,
 "nbformat_minor": 2
}
