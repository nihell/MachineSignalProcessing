{
 "cells": [
  {
   "cell_type": "markdown",
   "metadata": {},
   "source": [
    "# Time Series Analysis with TDA\n",
    "First, import the usual libraries"
   ]
  },
  {
   "cell_type": "code",
   "execution_count": 1,
   "metadata": {},
   "outputs": [],
   "source": [
    "import pandas as pd\n",
    "import numpy as np\n",
    "import gudhi as gd\n",
    "from gudhi.point_cloud.timedelay import TimeDelayEmbedding\n",
    "from gudhi.hera import wasserstein_distance\n",
    "from gudhi.representations import PersistenceImage\n",
    "from gudhi.representations.metrics import WassersteinDistance\n",
    "import matplotlib.pyplot as plt\n",
    "from matplotlib import cm\n",
    "from sklearn.manifold import MDS\n",
    "import os\n",
    "%matplotlib widget"
   ]
  },
  {
   "cell_type": "markdown",
   "metadata": {},
   "source": [
    "Now we load the data.\n",
    "We have five machines, for each of which we have time series for working well and for malfunctioning.\n",
    "This way we get 10 numpy arrays in total."
   ]
  },
  {
   "cell_type": "code",
   "execution_count": 2,
   "metadata": {},
   "outputs": [
    {
     "name": "stdout",
     "output_type": "stream",
     "text": [
      "['sig1_good.txt', 'sig2_good.txt', 'sig3_good.txt', 'sig4_good.txt', 'sig5_good.txt']\n",
      "['sig1_bad.txt', 'sig2_bad.txt', 'sig3_bad.txt', 'sig4_bad.txt', 'sig5_bad.txt']\n",
      "[-0.11156466  0.01043311  0.30969176 ...  0.44117724  0.98839737\n",
      " -2.1306849 ]\n"
     ]
    }
   ],
   "source": [
    "datapath =\".\\\\data\\\\timeseries\\\\good_new\"\n",
    "filelist = os.listdir(datapath)\n",
    "print(sorted(filelist))\n",
    "good_time_series = [np.array(pd.read_csv(os.path.join(datapath,f), header=None)[0]) for f in sorted(filelist)]\n",
    "datapath =\".\\\\data\\\\timeseries\\\\bad_new\"\n",
    "filelist = os.listdir(datapath)\n",
    "print(sorted(filelist))\n",
    "bad_time_series = [np.array(pd.read_csv(os.path.join(datapath,f), header=None)[0]) for f in sorted(filelist)]\n",
    "\n",
    "print(good_time_series[0])"
   ]
  },
  {
   "cell_type": "markdown",
   "metadata": {},
   "source": [
    "Let us plot the time series"
   ]
  },
  {
   "cell_type": "code",
   "execution_count": 4,
   "metadata": {},
   "outputs": [
    {
     "data": {
      "application/vnd.jupyter.widget-view+json": {
       "model_id": "213d60aa32da4cf3a474003cfcd86516",
       "version_major": 2,
       "version_minor": 0
      },
      "text/plain": [
       "Canvas(toolbar=Toolbar(toolitems=[('Home', 'Reset original view', 'home', 'home'), ('Back', 'Back to previous …"
      ]
     },
     "metadata": {},
     "output_type": "display_data"
    }
   ],
   "source": [
    "f,axes = plt.subplots(1,len(good_time_series), figsize = (25,5))\n",
    "for i in range(0,len(good_time_series)):\n",
    "    axes[i].plot(np.array(range(len(good_time_series[i]))),good_time_series[i], alpha = 1, c=\"tab:green\")\n",
    "    axes[i].plot(np.array(range(len(bad_time_series[i]))),bad_time_series[i], alpha=0.5, c=\"tab:red\")\n",
    "plt.show()"
   ]
  },
  {
   "cell_type": "markdown",
   "metadata": {},
   "source": [
    "Now we use time delay embedding, mapping a time series valued in $\\mathbb{R}$ to a point cloud in $\\mathbb{R}^4$.\n",
    "The parameters are determined by trial and error.\n",
    "Concretely, using $dim =4, delay = 5, skip = 6$, we map the sequence\n",
    "$$(x_1, x_2, x_3, x_4, x_5, x_6, \\ldots)\\mapsto ((x_1, x_6, x_{11}, x_{16}), (x_7,x_{12}, x_{17},x_{22}),(x_{13},x_{18},x_{23},x_{28})).$$"
   ]
  },
  {
   "cell_type": "code",
   "execution_count": 144,
   "metadata": {},
   "outputs": [
    {
     "name": "stdout",
     "output_type": "stream",
     "text": [
      "(5, 3570, 4)\n",
      "[[-0.11156466  0.51835297 -2.2669634  -2.904707  ]\n",
      " [-0.6187715   0.56107707 -0.13141374 -0.91914892]\n",
      " [-0.28219899  2.9329191  -0.90028596 -0.27770229]\n",
      " ...\n",
      " [ 0.2728521  -1.1323288  -0.07650804  0.37802255]\n",
      " [-0.01464606  0.38388584  0.63025494 -0.33878564]\n",
      " [-0.15930421 -0.26660106 -0.8881021   0.98839737]]\n"
     ]
    }
   ],
   "source": [
    "dim = 4\n",
    "delay =5\n",
    "skip = 7\n",
    "\n",
    "tde = TimeDelayEmbedding(dim = dim, delay=delay, skip=skip)\n",
    "good_point_clouds = tde.transform(good_time_series)\n",
    "bad_point_clouds = tde.transform(bad_time_series)\n",
    "\n",
    "print(np.array(good_point_clouds).shape)\n",
    "print(good_point_clouds[0])"
   ]
  },
  {
   "cell_type": "code",
   "execution_count": 145,
   "metadata": {},
   "outputs": [
    {
     "data": {
      "application/vnd.jupyter.widget-view+json": {
       "model_id": "235ee6548eb54519a951f7cdbad472ed",
       "version_major": 2,
       "version_minor": 0
      },
      "text/plain": [
       "Canvas(toolbar=Toolbar(toolitems=[('Home', 'Reset original view', 'home', 'home'), ('Back', 'Back to previous …"
      ]
     },
     "metadata": {},
     "output_type": "display_data"
    }
   ],
   "source": [
    "f,ax = plt.subplots()\n",
    "ax.scatter(bad_point_clouds[4][:,0],bad_point_clouds[4][:,1])\n",
    "plt.show()"
   ]
  },
  {
   "cell_type": "markdown",
   "metadata": {},
   "source": [
    "For each pointcloud, we compute persistent homology in dimension 1 using the alpha filtration."
   ]
  },
  {
   "cell_type": "code",
   "execution_count": 146,
   "metadata": {},
   "outputs": [],
   "source": [
    "good_pds = []\n",
    "\n",
    "for pc in good_point_clouds:\n",
    "    ac = gd.AlphaComplex(pc)\n",
    "    st = ac.create_simplex_tree()\n",
    "    st.compute_persistence()\n",
    "    good_pds.append(st.persistence_intervals_in_dimension(1))\n",
    "\n",
    "bad_pds = []\n",
    "\n",
    "for pc in bad_point_clouds:\n",
    "    ac = gd.AlphaComplex(pc)\n",
    "    st = ac.create_simplex_tree()\n",
    "    st.compute_persistence()\n",
    "    bad_pds.append(st.persistence_intervals_in_dimension(1))"
   ]
  },
  {
   "cell_type": "markdown",
   "metadata": {},
   "source": [
    "Now we plot the persistence diagrams.\n",
    "The five pictures correspond to the five machines.\n",
    "In each subfigure, the red diagram represents the well-working machine, whereas the green diagram represents the malfunctioning machine."
   ]
  },
  {
   "cell_type": "code",
   "execution_count": 147,
   "metadata": {},
   "outputs": [
    {
     "data": {
      "application/vnd.jupyter.widget-view+json": {
       "model_id": "ddbd71a388fd4a9c863ff9d67de70199",
       "version_major": 2,
       "version_minor": 0
      },
      "text/plain": [
       "Canvas(toolbar=Toolbar(toolitems=[('Home', 'Reset original view', 'home', 'home'), ('Back', 'Back to previous …"
      ]
     },
     "metadata": {},
     "output_type": "display_data"
    }
   ],
   "source": [
    "f,axes = plt.subplots(1,len(good_pds), figsize = (20,4))\n",
    "for i in range(0,len(good_pds)):\n",
    "    gd.plot_persistence_diagram(good_pds[i], axes=axes[i])\n",
    "    gd.plot_persistence_diagram(bad_pds[i], axes=axes[i],colormap=cm.Set2.colors)\n",
    "plt.show()"
   ]
  },
  {
   "cell_type": "markdown",
   "metadata": {},
   "source": [
    "To do machine learning, we vectorize the diagrams to peristent images.\n",
    "For illustration, we plot the PI corresponding to Machine 1 working well."
   ]
  },
  {
   "cell_type": "code",
   "execution_count": 148,
   "metadata": {},
   "outputs": [
    {
     "data": {
      "application/vnd.jupyter.widget-view+json": {
       "model_id": "64e4c933cb8940869f29270733c123c1",
       "version_major": 2,
       "version_minor": 0
      },
      "text/plain": [
       "Canvas(toolbar=Toolbar(toolitems=[('Home', 'Reset original view', 'home', 'home'), ('Back', 'Back to previous …"
      ]
     },
     "metadata": {},
     "output_type": "display_data"
    },
    {
     "data": {
      "text/plain": [
       "<matplotlib.image.AxesImage at 0x1c183cde908>"
      ]
     },
     "execution_count": 148,
     "metadata": {},
     "output_type": "execute_result"
    }
   ],
   "source": [
    "pi = PersistenceImage()\n",
    "pi.fit(good_pds+bad_pds)\n",
    "good_pis = pi.transform(good_pds)\n",
    "bad_pis = pi.transform(bad_pds)\n",
    "plt.matshow(good_pis[0].reshape(pi.resolution))"
   ]
  },
  {
   "cell_type": "markdown",
   "metadata": {},
   "source": [
    "Next, we use MDS to visualize the data set in two dimensions."
   ]
  },
  {
   "cell_type": "code",
   "execution_count": 149,
   "metadata": {},
   "outputs": [],
   "source": [
    "pis = np.concatenate((good_pis,bad_pis))\n",
    "mds = MDS(n_components=2)\n",
    "emb =mds.fit_transform(pis)"
   ]
  },
  {
   "cell_type": "code",
   "execution_count": 152,
   "metadata": {},
   "outputs": [
    {
     "data": {
      "application/vnd.jupyter.widget-view+json": {
       "model_id": "532ee5fe1340459ba37266a01480407c",
       "version_major": 2,
       "version_minor": 0
      },
      "text/plain": [
       "Canvas(toolbar=Toolbar(toolitems=[('Home', 'Reset original view', 'home', 'home'), ('Back', 'Back to previous …"
      ]
     },
     "metadata": {},
     "output_type": "display_data"
    }
   ],
   "source": [
    "f,ax = plt.subplots()\n",
    "colors = [\"tab:blue\",\"tab:orange\", \"tab:green\", \"tab:red\",\"tab:olive\"]\n",
    "ax.scatter(emb[:5,0],emb[:5,1], marker = \"o\", c= colors, label=\"well-working machine\")\n",
    "ax.scatter(emb[5:,0],emb[5:,1], marker = \"x\", c=colors, label=\"malfunctioning machine\")\n",
    "ax.legend()\n",
    "plt.show()"
   ]
  },
  {
   "cell_type": "code",
   "execution_count": 109,
   "metadata": {},
   "outputs": [
    {
     "data": {
      "text/plain": [
       "(array([   25,   713,  1426,  2141,  2855,  4283,  4996,  4997,  5710,\n",
       "         6425,  7138,  7853,  7854,  8566,  8567,  8568,  9282,  9984,\n",
       "         9995, 10710, 12137, 12815, 12851, 12852, 13565, 14278, 14992,\n",
       "        14993, 15707, 17848, 18564, 19403, 19990, 19991, 22134, 22848,\n",
       "        23562, 24276], dtype=int64),)"
      ]
     },
     "execution_count": 109,
     "metadata": {},
     "output_type": "execute_result"
    }
   ],
   "source": [
    "np.where(bad_time_series[3]>4)\n"
   ]
  }
 ],
 "metadata": {
  "kernelspec": {
   "display_name": "Python 3.7.6 ('base')",
   "language": "python",
   "name": "python3"
  },
  "language_info": {
   "codemirror_mode": {
    "name": "ipython",
    "version": 3
   },
   "file_extension": ".py",
   "mimetype": "text/x-python",
   "name": "python",
   "nbconvert_exporter": "python",
   "pygments_lexer": "ipython3",
   "version": "3.7.6"
  },
  "orig_nbformat": 4,
  "vscode": {
   "interpreter": {
    "hash": "d9afb6b688e7dd77db3bffa01ffc2bc117fca9c663fc228558b76627c9c64d5e"
   }
  }
 },
 "nbformat": 4,
 "nbformat_minor": 2
}
