{
 "cells": [
  {
   "cell_type": "code",
   "execution_count": 7,
   "metadata": {},
   "outputs": [],
   "source": [
    "import pandas as pd\n",
    "import numpy as np\n",
    "import gudhi as gd\n",
    "from gudhi.point_cloud.timedelay import TimeDelayEmbedding\n",
    "from gudhi.hera import wasserstein_distance\n",
    "from gudhi.representations import PersistenceImage, Landscape, Entropy\n",
    "from gudhi.representations.metrics import WassersteinDistance\n",
    "import matplotlib.pyplot as plt\n",
    "from matplotlib import cm\n",
    "from sklearn.manifold import MDS\n",
    "from sklearn.decomposition import PCA\n",
    "\n",
    "import os\n",
    "from tqdm.notebook import tqdm\n",
    "\n",
    "\n",
    "#%matplotlib widget"
   ]
  },
  {
   "cell_type": "code",
   "execution_count": 8,
   "metadata": {},
   "outputs": [
    {
     "name": "stdout",
     "output_type": "stream",
     "text": [
      "['signal05_good.txt', 'signal10_good.txt', 'signal15_good.txt', 'signal20_good.txt', 'signal25_good.txt']\n",
      "['signal05_bad.txt', 'signal10_bad.txt', 'signal15_bad.txt', 'signal20_bad.txt', 'signal25_bad.txt']\n",
      "[ 0.2504463   0.07998543 -0.35629045 ... -0.55235447 -0.22336272\n",
      " -0.37701057]\n"
     ]
    }
   ],
   "source": [
    "datapath =\".\\\\data\\\\timeseries\\\\good2\"\n",
    "filelist = os.listdir(datapath)\n",
    "print(sorted(filelist))\n",
    "good_labels  =sorted(filelist)\n",
    "good_time_series = [np.loadtxt(os.path.join(datapath,f)) for f in sorted(filelist)]\n",
    "datapath =\".\\\\data\\\\timeseries\\\\bad2\"\n",
    "filelist = os.listdir(datapath)\n",
    "print(sorted(filelist))\n",
    "bad_labels = sorted(filelist)\n",
    "bad_time_series = [np.loadtxt(os.path.join(datapath,f)) for f in sorted(filelist)]\n",
    "\n",
    "print(good_time_series[0])"
   ]
  },
  {
   "cell_type": "code",
   "execution_count": 9,
   "metadata": {},
   "outputs": [],
   "source": [
    "n_chunks = 100\n",
    "chopped_good_ts = [[]]*len(good_time_series)\n",
    "chopped_bad_ts = [[]]*len(bad_time_series)\n",
    "chunks = np.array_split(range(0,len(good_time_series[0])), n_chunks)\n",
    "for i in range(0,len(good_time_series)):\n",
    "    chopped_good_ts[i] = np.array_split(good_time_series[i], n_chunks)\n",
    "    chopped_bad_ts[i] = np.array_split(bad_time_series[i], n_chunks)"
   ]
  },
  {
   "cell_type": "code",
   "execution_count": 10,
   "metadata": {},
   "outputs": [],
   "source": [
    "dim = 10\n",
    "delay =14\n",
    "skip = 1\n",
    "good_point_clouds = []\n",
    "bad_point_clouds = []\n",
    "\n",
    "tde = TimeDelayEmbedding(dim = dim, delay=delay, skip=skip)\n",
    "\n",
    "for i in range(0,len(good_time_series)):\n",
    "    good_point_clouds.append(tde.transform(chopped_good_ts[i]))\n",
    "    bad_point_clouds.append(tde.transform(chopped_bad_ts[i]))"
   ]
  },
  {
   "cell_type": "code",
   "execution_count": 11,
   "metadata": {},
   "outputs": [
    {
     "data": {
      "text/plain": [
       "<matplotlib.collections.PathCollection at 0x21f0d959e08>"
      ]
     },
     "execution_count": 11,
     "metadata": {},
     "output_type": "execute_result"
    },
    {
     "data": {
      "image/png": "[encoded data removed]",
      "text/plain": [
       "<Figure size 432x288 with 1 Axes>"
      ]
     },
     "metadata": {
      "needs_background": "light"
     },
     "output_type": "display_data"
    }
   ],
   "source": [
    "f,ax = plt.subplots()\n",
    "ax.scatter(good_point_clouds[0][0][:,0],good_point_clouds[0][0][:,1])\n",
    "ax.scatter(good_point_clouds[0][1][:,0],good_point_clouds[0][1][:,1])\n",
    "ax.scatter(good_point_clouds[1][0][:,0],good_point_clouds[1][1][:,1])"
   ]
  },
  {
   "cell_type": "code",
   "execution_count": 12,
   "metadata": {},
   "outputs": [],
   "source": [
    "all_pds = []\n",
    "good_pds = []\n",
    "\n",
    "for i in range(0,len(good_point_clouds)):\n",
    "    to_add = []\n",
    "    \n",
    "    for pc in good_point_clouds[i]:\n",
    "        ac = gd.RipsComplex(pc)\n",
    "        st = ac.create_simplex_tree(max_dimension=2)\n",
    "        st.compute_persistence()\n",
    "        to_add.append(st.persistence_intervals_in_dimension(1))\n",
    "        all_pds.append(st.persistence_intervals_in_dimension(1))\n",
    "    good_pds.append(to_add)    \n",
    "    \n",
    "    #print(st.persistence_intervals_in_dimension(1)[0])\n",
    "\n",
    "bad_pds = []\n",
    "\n",
    "for i in range(0,len(bad_point_clouds)):\n",
    "    to_add = []\n",
    "    for pc in bad_point_clouds[i]:\n",
    "        ac = gd.RipsComplex(pc)\n",
    "        st = ac.create_simplex_tree(max_dimension=2)\n",
    "        st.compute_persistence()\n",
    "        to_add.append(st.persistence_intervals_in_dimension(1))\n",
    "        all_pds.append(st.persistence_intervals_in_dimension(1))\n",
    "    bad_pds.append(to_add)"
   ]
  },
  {
   "cell_type": "code",
   "execution_count": 8,
   "metadata": {},
   "outputs": [
    {
     "data": {
      "text/plain": [
       "1000"
      ]
     },
     "execution_count": 8,
     "metadata": {},
     "output_type": "execute_result"
    }
   ],
   "source": [
    "len(all_pds)"
   ]
  },
  {
   "cell_type": "code",
   "execution_count": 26,
   "metadata": {},
   "outputs": [],
   "source": [
    "\n",
    "pi = Landscape(num_landscapes=100, resolution=100)\n",
    "#pi=Entropy()\n",
    "#pi=PersistenceImage()\n",
    "\n",
    "pi.fit(all_pds)\n",
    "\n",
    "good_pis = []\n",
    "for i in range(0,len(good_pds)):\n",
    "    good_pis.append(pi.transform(good_pds[i]))\n",
    "bad_pis = []\n",
    "for i in range(0,len(bad_pds)):\n",
    "    bad_pis.append(pi.transform(bad_pds[i]))\n",
    "\n",
    "#plt.matshow(good_pis[0][0].reshape(pi.resolution))"
   ]
  },
  {
   "cell_type": "code",
   "execution_count": 27,
   "metadata": {},
   "outputs": [
    {
     "data": {
      "text/plain": [
       "(10000,)"
      ]
     },
     "execution_count": 27,
     "metadata": {},
     "output_type": "execute_result"
    }
   ],
   "source": [
    "good_pis[0][0].shape"
   ]
  },
  {
   "cell_type": "code",
   "execution_count": 28,
   "metadata": {},
   "outputs": [],
   "source": [
    "pi_dist_matrix = np.zeros((len(good_pds),n_chunks))\n",
    "for j in range(0,len(good_time_series)):\n",
    "    for i in range(0,n_chunks):\n",
    "        diff = np.linalg.norm(good_pis[j][i]-bad_pis[j][i])\n",
    "        #print(j,i,diff)\n",
    "        pi_dist_matrix[j][i] = diff"
   ]
  },
  {
   "cell_type": "code",
   "execution_count": 29,
   "metadata": {},
   "outputs": [
    {
     "data": {
      "text/plain": [
       "<matplotlib.image.AxesImage at 0x23a00335e88>"
      ]
     },
     "execution_count": 29,
     "metadata": {},
     "output_type": "execute_result"
    },
    {
     "data": {
      "image/png": "[encoded data removed]",
      "text/plain": [
       "<Figure size 1152x144 with 1 Axes>"
      ]
     },
     "metadata": {
      "needs_background": "light"
     },
     "output_type": "display_data"
    }
   ],
   "source": [
    "plt.matshow(pi_dist_matrix)"
   ]
  },
  {
   "cell_type": "code",
   "execution_count": 30,
   "metadata": {},
   "outputs": [
    {
     "data": {
      "image/png": "[encoded data removed]",
      "text/plain": [
       "<Figure size 432x288 with 1 Axes>"
      ]
     },
     "metadata": {
      "needs_background": "light"
     },
     "output_type": "display_data"
    }
   ],
   "source": [
    "good_concat_vectors = [np.concatenate(good_pis[i]) for i in range(0,len(good_pis))]\n",
    "bad_concat_vectors = [np.concatenate(bad_pis[i]) for i in range(0,len(bad_pis))]\n",
    "mds = PCA(n_components=2)\n",
    "emb =mds.fit_transform(np.concatenate([good_concat_vectors,bad_concat_vectors]))\n",
    "f,ax = plt.subplots()\n",
    "colors = [\"tab:blue\",\"tab:orange\", \"tab:green\", \"tab:red\",\"tab:olive\"]\n",
    "ax.scatter(emb[:5,0],emb[:5,1], marker = \"o\", c= colors, label=\"well-working machine\")\n",
    "ax.scatter(emb[5:,0],emb[5:,1], marker = \"x\", c=colors, label=\"malfunctioning machine\")\n",
    "ax.legend()\n",
    "plt.show()"
   ]
  },
  {
   "cell_type": "code",
   "execution_count": 68,
   "metadata": {},
   "outputs": [
    {
     "name": "stdout",
     "output_type": "stream",
     "text": [
      "0\n"
     ]
    },
    {
     "data": {
      "application/vnd.jupyter.widget-view+json": {
       "model_id": "d5037a4b9657488c9ddc76c286cd165a",
       "version_major": 2,
       "version_minor": 0
      },
      "text/plain": [
       "HBox(children=(FloatProgress(value=0.0, max=200.0), HTML(value='')))"
      ]
     },
     "metadata": {},
     "output_type": "display_data"
    },
    {
     "name": "stdout",
     "output_type": "stream",
     "text": [
      "\n",
      "1\n"
     ]
    },
    {
     "data": {
      "application/vnd.jupyter.widget-view+json": {
       "model_id": "444135559cb34964ac1c60528b849024",
       "version_major": 2,
       "version_minor": 0
      },
      "text/plain": [
       "HBox(children=(FloatProgress(value=0.0, max=200.0), HTML(value='')))"
      ]
     },
     "metadata": {},
     "output_type": "display_data"
    }
   ],
   "source": [
    "## Wasserstein computation is horribly slow, do not execute this cell\n",
    "outlier_chunks = []\n",
    "dist_matrix = np.zeros((len(good_pds),n_chunks))\n",
    "for j in range(0,len(good_pds)):\n",
    "    print(j)\n",
    "    for i in tqdm(range(0,n_chunks)):\n",
    "        dist = gd.hera.wasserstein_distance(good_pds[j][i],bad_pds[j][i], internal_p = 2, order = 2, delta= 0.1)\n",
    "        dist_matrix[j][i] = dist\n",
    "        #if dist > 0:\n",
    "            #print(i)\n",
    "            #print(dist)\n",
    "            #print(chunks[i])\n",
    "            #outlier_chunks.append(i)"
   ]
  },
  {
   "cell_type": "code",
   "execution_count": null,
   "metadata": {},
   "outputs": [],
   "source": [
    "plt.matshow(dist_matrix)"
   ]
  },
  {
   "cell_type": "code",
   "execution_count": 11,
   "metadata": {},
   "outputs": [
    {
     "data": {
      "text/plain": [
       "array([0.08797056, 0.08797056, 0.08797056, 0.08797056, 0.08797056])"
      ]
     },
     "execution_count": 11,
     "metadata": {},
     "output_type": "execute_result"
    }
   ],
   "source": [
    "dist_matrix[:,-6]"
   ]
  },
  {
   "cell_type": "code",
   "execution_count": 8,
   "metadata": {},
   "outputs": [],
   "source": [
    "ts_dist_matrix = np.zeros((len(good_pds),n_chunks))\n",
    "for j in range(0,len(good_time_series)):\n",
    "    for i in range(0,n_chunks):\n",
    "        diff = chopped_good_ts[j][i]-chopped_bad_ts[j][i]\n",
    "        #print(j,i,diff)\n",
    "        ts_dist_matrix[j][i] = np.abs(np.mean(diff))"
   ]
  },
  {
   "cell_type": "code",
   "execution_count": 9,
   "metadata": {},
   "outputs": [
    {
     "data": {
      "text/plain": [
       "<matplotlib.image.AxesImage at 0x1a373934c88>"
      ]
     },
     "execution_count": 9,
     "metadata": {},
     "output_type": "execute_result"
    },
    {
     "data": {
      "image/png": "[encoded data removed]",
      "text/plain": [
       "<Figure size 1152x144 with 1 Axes>"
      ]
     },
     "metadata": {
      "needs_background": "light"
     },
     "output_type": "display_data"
    }
   ],
   "source": [
    "plt.matshow(ts_dist_matrix)"
   ]
  }
 ],
 "metadata": {
  "kernelspec": {
   "display_name": "Python 3.7.6 ('base')",
   "language": "python",
   "name": "python3"
  },
  "language_info": {
   "codemirror_mode": {
    "name": "ipython",
    "version": 3
   },
   "file_extension": ".py",
   "mimetype": "text/x-python",
   "name": "python",
   "nbconvert_exporter": "python",
   "pygments_lexer": "ipython3",
   "version": "3.7.6"
  },
  "orig_nbformat": 4,
  "vscode": {
   "interpreter": {
    "hash": "d9afb6b688e7dd77db3bffa01ffc2bc117fca9c663fc228558b76627c9c64d5e"
   }
  }
 },
 "nbformat": 4,
 "nbformat_minor": 2
}
